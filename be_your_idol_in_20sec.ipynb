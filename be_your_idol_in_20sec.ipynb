{
  "nbformat": 4,
  "nbformat_minor": 0,
  "metadata": {
    "colab": {
      "name": "be your idol in 20sec.ipynb",
      "provenance": [],
      "collapsed_sections": []
    },
    "kernelspec": {
      "display_name": "Python 3",
      "name": "python3"
    }
  },
  "cells": [
    {
      "cell_type": "code",
      "metadata": {
        "id": "3X7R5kL405wv"
      },
      "source": [
        "import numpy as np\r\n",
        "import matplotlib.pyplot as plt\r\n",
        "from matplotlib import animation\r\n",
        "from IPython.display import HTML\r\n",
        "from PIL import Image\r\n",
        "from google.colab import files\r\n",
        "\r\n",
        "def plusminus(src , dest):\r\n",
        "  src[src>dest] -=1\r\n",
        "  src[src<dest] +=1\r\n",
        "  return src\r\n",
        "\r\n",
        "def beyouridole():\r\n",
        "  print(\"please choose 2 photos from your hard disk (you and your idol)\\n\"\r\n",
        "        \"please choose a nicely cropped facial images\\n\"\r\n",
        "        \"please ensure that your image's name is alphabetically the least\\n\\n\")\r\n",
        "  up = files.upload()\r\n",
        "  if len(up) != 2: return \"please choose exactly 2 pictures\"\r\n",
        "  path1 , path2 = list(up)\r\n",
        "  img1 = np.array(Image.open(path1).convert('RGB').resize((224,256)))\r\n",
        "  img2 = np.array(Image.open(path2).convert('RGB').resize((224,256)))\r\n",
        "  \r\n",
        "  fig = plt.figure(figsize=(7,7))\r\n",
        "  ax = fig.add_axes([0,0,1,1])\r\n",
        "  ax.set(xticks=[] , yticks=[])\r\n",
        "  shows = []\r\n",
        "  for i in range(200):\r\n",
        "      show = ax.imshow(plusminus(img1,img2) , animated=True)\r\n",
        "      shows.append([show])\r\n",
        "  anim = animation.ArtistAnimation(fig, shows, interval=100, blit=True)\r\n",
        "  X = HTML(anim.to_html5_video())\r\n",
        "  fig.delaxes(ax)\r\n",
        "\r\n",
        "  return X"
      ],
      "execution_count": 1,
      "outputs": []
    },
    {
      "cell_type": "code",
      "metadata": {
        "id": "u72Ln0oZ_zYz"
      },
      "source": [
        "beyouridole() ## what are you waiting for become you idol now!"
      ],
      "execution_count": null,
      "outputs": []
    }
  ]
}
